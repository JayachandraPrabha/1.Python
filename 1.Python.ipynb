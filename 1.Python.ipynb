{
 "cells": [
  {
   "cell_type": "code",
   "execution_count": 6,
   "id": "46b31177",
   "metadata": {},
   "outputs": [
    {
     "name": "stdout",
     "output_type": "stream",
     "text": [
      "Enter num1:23\n",
      "Enter num1:23\n",
      "The answer: 46\n"
     ]
    }
   ],
   "source": [
    "num1=int(input(\"Enter num1:\"))\n",
    "num2=int(input(\"Enter num1:\"))\n",
    "print(\"The answer:\",num1+num2)"
   ]
  },
  {
   "cell_type": "markdown",
   "id": "720cb936",
   "metadata": {},
   "source": [
    "if condition"
   ]
  }
 ],
 "metadata": {
  "kernelspec": {
   "display_name": "Python 3 (ipykernel)",
   "language": "python",
   "name": "python3"
  },
  "language_info": {
   "codemirror_mode": {
    "name": "ipython",
    "version": 3
   },
   "file_extension": ".py",
   "mimetype": "text/x-python",
   "name": "python",
   "nbconvert_exporter": "python",
   "pygments_lexer": "ipython3",
   "version": "3.10.9"
  }
 },
 "nbformat": 4,
 "nbformat_minor": 5
}
