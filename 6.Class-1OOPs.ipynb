{
 "cells": [
  {
   "cell_type": "code",
   "execution_count": 1,
   "id": "030fdc07",
   "metadata": {},
   "outputs": [],
   "source": [
    "class multipleFunctions():\n",
    "    def OddEven():\n",
    "        number=int(input(\"Enter  number:\"))\n",
    "        if(number%2==1):\n",
    "            result=print(number,\"is Odd number\")\n",
    "        else:\n",
    "            result=print(number,\"is Even number\")\n",
    "        return result\n",
    "    def BMI():\n",
    "        bmi=int(input(\"Enter the BMI Index:\"))\n",
    "        if bmi<18:\n",
    "            print(\"Under weight\")\n",
    "            mes=\"Under weight\"\n",
    "        elif bmi<25:\n",
    "            print(\"Healthy weight\")\n",
    "            mes=\"Healthy weight\"\n",
    "        elif bmi<30:\n",
    "            print(\"Over weight\")\n",
    "            mes=\"Over weight\"\n",
    "        elif bmi<35:\n",
    "            print(\"Very Over weight\")\n",
    "            mes=\"Very Over weight\"\n",
    "        elif bmi<40:\n",
    "            print(\"Severly Obese\")\n",
    "            mes=\"Severly Obese\"\n",
    "        else:\n",
    "            print(\"Morbidly Obese\")\n",
    "            mes=\"Morbidly Obese\"\n",
    "        return mes"
   ]
  },
  {
   "cell_type": "code",
   "execution_count": 2,
   "id": "6c2dfca8",
   "metadata": {},
   "outputs": [
    {
     "name": "stdout",
     "output_type": "stream",
     "text": [
      "Enter the BMI Index:22\n",
      "Healthy weight\n"
     ]
    },
    {
     "data": {
      "text/plain": [
       "'Healthy weight'"
      ]
     },
     "execution_count": 2,
     "metadata": {},
     "output_type": "execute_result"
    }
   ],
   "source": [
    "multipleFunctions.BMI()"
   ]
  },
  {
   "cell_type": "code",
   "execution_count": null,
   "id": "aa1f38d1",
   "metadata": {},
   "outputs": [],
   "source": []
  }
 ],
 "metadata": {
  "kernelspec": {
   "display_name": "Python 3 (ipykernel)",
   "language": "python",
   "name": "python3"
  },
  "language_info": {
   "codemirror_mode": {
    "name": "ipython",
    "version": 3
   },
   "file_extension": ".py",
   "mimetype": "text/x-python",
   "name": "python",
   "nbconvert_exporter": "python",
   "pygments_lexer": "ipython3",
   "version": "3.10.9"
  }
 },
 "nbformat": 4,
 "nbformat_minor": 5
}
