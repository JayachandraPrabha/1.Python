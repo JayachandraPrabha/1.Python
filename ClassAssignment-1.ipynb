{
 "cells": [
  {
   "cell_type": "code",
   "execution_count": 2,
   "id": "339491f2",
   "metadata": {},
   "outputs": [],
   "source": [
    "class SubfieldsInAI():\n",
    "    def Subfields():\n",
    "        mes= print(\"\"\"sub-fields in AI are:\n",
    "    Machine Learning\n",
    "    Neural Networks\n",
    "    Vision\n",
    "    Robotics\n",
    "    Speech Processing\n",
    "    Natural Language Processing\"\"\")\n",
    "        return mes"
   ]
  },
  {
   "cell_type": "code",
   "execution_count": 3,
   "id": "5750bb66",
   "metadata": {},
   "outputs": [
    {
     "name": "stdout",
     "output_type": "stream",
     "text": [
      "sub-fields in AI are:\n",
      "    Machine Learning\n",
      "    Neural Networks\n",
      "    Vision\n",
      "    Robotics\n",
      "    Speech Processing\n",
      "    Natural Language Processing\n"
     ]
    }
   ],
   "source": [
    "SubfieldsInAI.Subfields()"
   ]
  },
  {
   "cell_type": "code",
   "execution_count": 4,
   "id": "f6919a98",
   "metadata": {},
   "outputs": [],
   "source": [
    "class OddEven():\n",
    "    def OddEven():\n",
    "        number=int(input(\"Enter  number:\"))\n",
    "        if(number%2==1):\n",
    "            result=print(number,\"is Odd number\")\n",
    "        else:\n",
    "            result=print(number,\"is Even number\")\n",
    "        return result"
   ]
  },
  {
   "cell_type": "code",
   "execution_count": 5,
   "id": "24335ef4",
   "metadata": {},
   "outputs": [
    {
     "name": "stdout",
     "output_type": "stream",
     "text": [
      "Enter  number:52452\n",
      "52452 is Even number\n"
     ]
    }
   ],
   "source": [
    "OddEven.OddEven()"
   ]
  },
  {
   "cell_type": "code",
   "execution_count": 6,
   "id": "f56449f7",
   "metadata": {},
   "outputs": [],
   "source": [
    "class ElegibilityForMarriage():\n",
    "    def Elegible():\n",
    "        gender=input(\"Your Gender:\")\n",
    "        age=int(input(\"Your Age:\"))\n",
    "        if (gender==\"Male\" and age>=21):\n",
    "            answer=print(\"ELIGIBLE\")\n",
    "        elif (gender==\"Female\" and age>=18):\n",
    "            answer=print(\"ELIGIBLE\")\n",
    "        else:\n",
    "            answer=print(\"NOT ELIGIBLE\")\n",
    "        return answer"
   ]
  },
  {
   "cell_type": "code",
   "execution_count": 7,
   "id": "22785c4d",
   "metadata": {},
   "outputs": [
    {
     "name": "stdout",
     "output_type": "stream",
     "text": [
      "Your Gender:Male\n",
      "Your Age:20\n",
      "NOT ELIGIBLE\n"
     ]
    }
   ],
   "source": [
    "ElegibilityForMarriage.Elegible()"
   ]
  },
  {
   "cell_type": "code",
   "execution_count": 8,
   "id": "0dfa8ca1",
   "metadata": {},
   "outputs": [],
   "source": [
    "class FindPercent():   \n",
    "    def percentage():\n",
    "        Subject1= int(input(\"Subject1= \"))\n",
    "        Subject2= int(input(\"Subject2= \"))\n",
    "        Subject3= int(input(\"Subject3= \"))\n",
    "        Subject4= int(input(\"Subject4= \"))\n",
    "        Subject5= int(input(\"Subject5= \"))\n",
    "        Total= Subject1+Subject2+Subject3+Subject4+Subject5\n",
    "        result=print(\"Total : \",Total) \n",
    "        percent=float((Total/500)*100)\n",
    "        Percentage= print(\"Percentage : \",percent)"
   ]
  },
  {
   "cell_type": "code",
   "execution_count": 9,
   "id": "0d14137a",
   "metadata": {},
   "outputs": [
    {
     "name": "stdout",
     "output_type": "stream",
     "text": [
      "Subject1= 98\n",
      "Subject2= 87\n",
      "Subject3= 95\n",
      "Subject4= 95\n",
      "Subject5= 93\n",
      "Total :  468\n",
      "Percentage :  93.60000000000001\n"
     ]
    }
   ],
   "source": [
    "FindPercent.percentage()"
   ]
  },
  {
   "cell_type": "code",
   "execution_count": 10,
   "id": "752faedd",
   "metadata": {},
   "outputs": [],
   "source": [
    "class triangle():    \n",
    "    def triangle():\n",
    "        Height=int(input(\"Height:\"))\n",
    "        Breadth=int(input(\"Breadth:\"))\n",
    "        AreaFormula=print(\"Area formula: (Height*Breadth)/2\")\n",
    "        AreaOfTriangle=(Height*Breadth)/2\n",
    "        result=print(\"Area of Triangle: \",AreaOfTriangle)\n",
    "\n",
    "        Height1=int(input(\"Height1:\"))\n",
    "        Height2=int(input(\"Height2:\"))\n",
    "        Breadth=int(input(\"Breadth:\"))\n",
    "        PerimeterFormula=print(\"Perimeter formula: Height1+Height2+Breadth\")\n",
    "        PerimeterOfTriangle=Height1+Height2+Breadth\n",
    "        result= print(\"Perimeter of Triangle: \",PerimeterOfTriangle)\n",
    "        return result"
   ]
  },
  {
   "cell_type": "code",
   "execution_count": 11,
   "id": "6b2072f2",
   "metadata": {},
   "outputs": [
    {
     "name": "stdout",
     "output_type": "stream",
     "text": [
      "Height:32\n",
      "Breadth:34\n",
      "Area formula: (Height*Breadth)/2\n",
      "Area of Triangle:  544.0\n",
      "Height1:2\n",
      "Height2:4\n",
      "Breadth:4\n",
      "Perimeter formula: Height1+Height2+Breadth\n",
      "Perimeter of Triangle:  10\n"
     ]
    }
   ],
   "source": [
    "triangle.triangle()"
   ]
  },
  {
   "cell_type": "code",
   "execution_count": null,
   "id": "497f2c5d",
   "metadata": {},
   "outputs": [],
   "source": []
  }
 ],
 "metadata": {
  "kernelspec": {
   "display_name": "Python 3 (ipykernel)",
   "language": "python",
   "name": "python3"
  },
  "language_info": {
   "codemirror_mode": {
    "name": "ipython",
    "version": 3
   },
   "file_extension": ".py",
   "mimetype": "text/x-python",
   "name": "python",
   "nbconvert_exporter": "python",
   "pygments_lexer": "ipython3",
   "version": "3.10.9"
  }
 },
 "nbformat": 4,
 "nbformat_minor": 5
}
