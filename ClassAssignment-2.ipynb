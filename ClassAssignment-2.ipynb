{
 "cells": [
  {
   "cell_type": "code",
   "execution_count": 1,
   "id": "8ebf8b43",
   "metadata": {},
   "outputs": [],
   "source": [
    "from ClassAssignment import multipleFunctions"
   ]
  },
  {
   "cell_type": "code",
   "execution_count": 4,
   "id": "6cb2ee42",
   "metadata": {},
   "outputs": [
    {
     "name": "stdout",
     "output_type": "stream",
     "text": [
      "sub-fields in AI are:\n",
      "    Machine Learning\n",
      "    Neural Networks\n",
      "    Vision\n",
      "    Robotics\n",
      "    Speech Processing\n",
      "    Natural Language Processing\n"
     ]
    }
   ],
   "source": [
    "multipleFunctions.Subfields()"
   ]
  },
  {
   "cell_type": "code",
   "execution_count": 5,
   "id": "fa6a57e9",
   "metadata": {},
   "outputs": [
    {
     "name": "stdout",
     "output_type": "stream",
     "text": [
      "Enter  number:2345\n",
      "2345 is Odd number\n"
     ]
    }
   ],
   "source": [
    "multipleFunctions.OddEven()"
   ]
  },
  {
   "cell_type": "code",
   "execution_count": 8,
   "id": "69ed06eb",
   "metadata": {},
   "outputs": [
    {
     "name": "stdout",
     "output_type": "stream",
     "text": [
      "Your Gender:Male\n",
      "Your Age:23\n",
      "ELIGIBLE\n"
     ]
    }
   ],
   "source": [
    "multipleFunctions.Elegible()"
   ]
  },
  {
   "cell_type": "code",
   "execution_count": 10,
   "id": "9f30b1a3",
   "metadata": {},
   "outputs": [
    {
     "name": "stdout",
     "output_type": "stream",
     "text": [
      "Subject1= 90\n",
      "Subject2= 80\n",
      "Subject3= 67\n",
      "Subject4= 88\n",
      "Subject5= 98\n",
      "Total :  423\n",
      "Percentage :  84.6\n"
     ]
    }
   ],
   "source": [
    "multipleFunctions.percentage()"
   ]
  },
  {
   "cell_type": "code",
   "execution_count": 11,
   "id": "d75ed585",
   "metadata": {},
   "outputs": [
    {
     "name": "stdout",
     "output_type": "stream",
     "text": [
      "Height:2\n",
      "Breadth:3\n",
      "Area formula: (Height*Breadth)/2\n",
      "Area of Triangle:  3.0\n",
      "Height1:4\n",
      "Height2:5\n",
      "Breadth:23\n",
      "Perimeter formula: Height1+Height2+Breadth\n",
      "Perimeter of Triangle:  32\n"
     ]
    }
   ],
   "source": [
    "multipleFunctions.triangle()"
   ]
  },
  {
   "cell_type": "code",
   "execution_count": null,
   "id": "5b6a90d7",
   "metadata": {},
   "outputs": [],
   "source": []
  }
 ],
 "metadata": {
  "kernelspec": {
   "display_name": "Python 3 (ipykernel)",
   "language": "python",
   "name": "python3"
  },
  "language_info": {
   "codemirror_mode": {
    "name": "ipython",
    "version": 3
   },
   "file_extension": ".py",
   "mimetype": "text/x-python",
   "name": "python",
   "nbconvert_exporter": "python",
   "pygments_lexer": "ipython3",
   "version": "3.10.9"
  }
 },
 "nbformat": 4,
 "nbformat_minor": 5
}
